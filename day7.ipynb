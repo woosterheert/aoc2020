{
 "cells": [
  {
   "cell_type": "code",
   "execution_count": 1,
   "metadata": {},
   "outputs": [],
   "source": [
    "import pandas as pd\n",
    "import numpy as np"
   ]
  },
  {
   "cell_type": "code",
   "execution_count": 2,
   "metadata": {},
   "outputs": [],
   "source": [
    "f = open('data/input_day7_1.txt', \"r\")\n",
    "regels = f.read().split('\\n')[:-1]"
   ]
  },
  {
   "cell_type": "code",
   "execution_count": 3,
   "metadata": {},
   "outputs": [],
   "source": [
    "check = {}\n",
    "for r in regels:\n",
    "    check[r.split(' ')[2]] = 1\n"
   ]
  },
  {
   "cell_type": "code",
   "execution_count": 4,
   "metadata": {},
   "outputs": [
    {
     "data": {
      "text/plain": [
       "{'bags': 1}"
      ]
     },
     "execution_count": 4,
     "metadata": {},
     "output_type": "execute_result"
    }
   ],
   "source": [
    "check"
   ]
  },
  {
   "cell_type": "code",
   "execution_count": 5,
   "metadata": {},
   "outputs": [],
   "source": [
    "bags = [r.split(' bags contain ')[0] for r in regels]"
   ]
  },
  {
   "cell_type": "code",
   "execution_count": 6,
   "metadata": {},
   "outputs": [],
   "source": [
    "inhoud = [r.split(' bags contain ')[1] for r in regels]"
   ]
  },
  {
   "cell_type": "code",
   "execution_count": 7,
   "metadata": {},
   "outputs": [],
   "source": [
    "df = pd.DataFrame({'bags': bags, 'inhoud': inhoud})"
   ]
  },
  {
   "cell_type": "code",
   "execution_count": 8,
   "metadata": {},
   "outputs": [
    {
     "data": {
      "text/plain": [
       "'3'"
      ]
     },
     "execution_count": 8,
     "metadata": {},
     "output_type": "execute_result"
    }
   ],
   "source": [
    "df.loc[0].inhoud.split(', ')[0].split(' ', 1)[0]"
   ]
  },
  {
   "cell_type": "code",
   "execution_count": 9,
   "metadata": {},
   "outputs": [
    {
     "data": {
      "text/plain": [
       "['muted magenta', 'bags']"
      ]
     },
     "execution_count": 9,
     "metadata": {},
     "output_type": "execute_result"
    }
   ],
   "source": [
    "df.loc[0].inhoud.split(', ')[0].split(' ', 1)[1].rsplit(' ', 1)"
   ]
  },
  {
   "cell_type": "code",
   "execution_count": 10,
   "metadata": {},
   "outputs": [],
   "source": [
    "def get_contents(content_str):\n",
    "    dict_out = {}\n",
    "    for c in content_str.split(', '):\n",
    "        dict_out[c.split(' ', 1)[1].rsplit(' ', 1)[0]] = c.split(' ', 1)[0]\n",
    "\n",
    "    return dict_out"
   ]
  },
  {
   "cell_type": "code",
   "execution_count": 11,
   "metadata": {},
   "outputs": [],
   "source": [
    "df['content_dict'] = df.inhoud.apply(get_contents)"
   ]
  },
  {
   "cell_type": "code",
   "execution_count": 12,
   "metadata": {},
   "outputs": [],
   "source": [
    "df.set_index('bags', inplace=True)"
   ]
  },
  {
   "cell_type": "code",
   "execution_count": 22,
   "metadata": {},
   "outputs": [],
   "source": [
    "df['bag_color'] = df.index.copy()"
   ]
  },
  {
   "cell_type": "code",
   "execution_count": 23,
   "metadata": {},
   "outputs": [
    {
     "data": {
      "text/html": [
       "<div>\n",
       "<style scoped>\n",
       "    .dataframe tbody tr th:only-of-type {\n",
       "        vertical-align: middle;\n",
       "    }\n",
       "\n",
       "    .dataframe tbody tr th {\n",
       "        vertical-align: top;\n",
       "    }\n",
       "\n",
       "    .dataframe thead th {\n",
       "        text-align: right;\n",
       "    }\n",
       "</style>\n",
       "<table border=\"1\" class=\"dataframe\">\n",
       "  <thead>\n",
       "    <tr style=\"text-align: right;\">\n",
       "      <th></th>\n",
       "      <th>inhoud</th>\n",
       "      <th>content_dict</th>\n",
       "      <th>check</th>\n",
       "      <th>bag_color</th>\n",
       "    </tr>\n",
       "    <tr>\n",
       "      <th>bags</th>\n",
       "      <th></th>\n",
       "      <th></th>\n",
       "      <th></th>\n",
       "      <th></th>\n",
       "    </tr>\n",
       "  </thead>\n",
       "  <tbody>\n",
       "    <tr>\n",
       "      <th>shiny lime</th>\n",
       "      <td>3 muted magenta bags, 3 clear cyan bags.</td>\n",
       "      <td>{'muted magenta': '3', 'clear cyan': '3'}</td>\n",
       "      <td>2</td>\n",
       "      <td>shiny lime</td>\n",
       "    </tr>\n",
       "    <tr>\n",
       "      <th>shiny violet</th>\n",
       "      <td>1 faded brown bag, 1 dull red bag.</td>\n",
       "      <td>{'faded brown': '1', 'dull red': '1'}</td>\n",
       "      <td>2</td>\n",
       "      <td>shiny violet</td>\n",
       "    </tr>\n",
       "    <tr>\n",
       "      <th>muted maroon</th>\n",
       "      <td>4 pale lime bags.</td>\n",
       "      <td>{'pale lime': '4'}</td>\n",
       "      <td>1</td>\n",
       "      <td>muted maroon</td>\n",
       "    </tr>\n",
       "    <tr>\n",
       "      <th>pale magenta</th>\n",
       "      <td>2 striped coral bags, 1 shiny orange bag, 3 vi...</td>\n",
       "      <td>{'striped coral': '2', 'shiny orange': '1', 'v...</td>\n",
       "      <td>4</td>\n",
       "      <td>pale magenta</td>\n",
       "    </tr>\n",
       "    <tr>\n",
       "      <th>vibrant crimson</th>\n",
       "      <td>4 bright white bags, 3 dark brown bags, 4 plai...</td>\n",
       "      <td>{'bright white': '4', 'dark brown': '3', 'plai...</td>\n",
       "      <td>3</td>\n",
       "      <td>vibrant crimson</td>\n",
       "    </tr>\n",
       "    <tr>\n",
       "      <th>...</th>\n",
       "      <td>...</td>\n",
       "      <td>...</td>\n",
       "      <td>...</td>\n",
       "      <td>...</td>\n",
       "    </tr>\n",
       "    <tr>\n",
       "      <th>clear gray</th>\n",
       "      <td>3 plaid lime bags, 1 dull beige bag, 5 light b...</td>\n",
       "      <td>{'plaid lime': '3', 'dull beige': '1', 'light ...</td>\n",
       "      <td>3</td>\n",
       "      <td>clear gray</td>\n",
       "    </tr>\n",
       "    <tr>\n",
       "      <th>drab tan</th>\n",
       "      <td>3 dull salmon bags, 3 wavy tomato bags, 2 mute...</td>\n",
       "      <td>{'dull salmon': '3', 'wavy tomato': '3', 'mute...</td>\n",
       "      <td>4</td>\n",
       "      <td>drab tan</td>\n",
       "    </tr>\n",
       "    <tr>\n",
       "      <th>muted gray</th>\n",
       "      <td>5 dull cyan bags, 4 clear olive bags.</td>\n",
       "      <td>{'dull cyan': '5', 'clear olive': '4'}</td>\n",
       "      <td>2</td>\n",
       "      <td>muted gray</td>\n",
       "    </tr>\n",
       "    <tr>\n",
       "      <th>striped black</th>\n",
       "      <td>4 dull plum bags, 3 faded gray bags, 3 faded c...</td>\n",
       "      <td>{'dull plum': '4', 'faded gray': '3', 'faded c...</td>\n",
       "      <td>3</td>\n",
       "      <td>striped black</td>\n",
       "    </tr>\n",
       "    <tr>\n",
       "      <th>clear violet</th>\n",
       "      <td>4 posh bronze bags, 1 pale gold bag.</td>\n",
       "      <td>{'posh bronze': '4', 'pale gold': '1'}</td>\n",
       "      <td>2</td>\n",
       "      <td>clear violet</td>\n",
       "    </tr>\n",
       "  </tbody>\n",
       "</table>\n",
       "<p>594 rows × 4 columns</p>\n",
       "</div>"
      ],
      "text/plain": [
       "                                                            inhoud  \\\n",
       "bags                                                                 \n",
       "shiny lime                3 muted magenta bags, 3 clear cyan bags.   \n",
       "shiny violet                    1 faded brown bag, 1 dull red bag.   \n",
       "muted maroon                                     4 pale lime bags.   \n",
       "pale magenta     2 striped coral bags, 1 shiny orange bag, 3 vi...   \n",
       "vibrant crimson  4 bright white bags, 3 dark brown bags, 4 plai...   \n",
       "...                                                            ...   \n",
       "clear gray       3 plaid lime bags, 1 dull beige bag, 5 light b...   \n",
       "drab tan         3 dull salmon bags, 3 wavy tomato bags, 2 mute...   \n",
       "muted gray                   5 dull cyan bags, 4 clear olive bags.   \n",
       "striped black    4 dull plum bags, 3 faded gray bags, 3 faded c...   \n",
       "clear violet                  4 posh bronze bags, 1 pale gold bag.   \n",
       "\n",
       "                                                      content_dict  check  \\\n",
       "bags                                                                        \n",
       "shiny lime               {'muted magenta': '3', 'clear cyan': '3'}      2   \n",
       "shiny violet                 {'faded brown': '1', 'dull red': '1'}      2   \n",
       "muted maroon                                    {'pale lime': '4'}      1   \n",
       "pale magenta     {'striped coral': '2', 'shiny orange': '1', 'v...      4   \n",
       "vibrant crimson  {'bright white': '4', 'dark brown': '3', 'plai...      3   \n",
       "...                                                            ...    ...   \n",
       "clear gray       {'plaid lime': '3', 'dull beige': '1', 'light ...      3   \n",
       "drab tan         {'dull salmon': '3', 'wavy tomato': '3', 'mute...      4   \n",
       "muted gray                  {'dull cyan': '5', 'clear olive': '4'}      2   \n",
       "striped black    {'dull plum': '4', 'faded gray': '3', 'faded c...      3   \n",
       "clear violet                {'posh bronze': '4', 'pale gold': '1'}      2   \n",
       "\n",
       "                       bag_color  \n",
       "bags                              \n",
       "shiny lime            shiny lime  \n",
       "shiny violet        shiny violet  \n",
       "muted maroon        muted maroon  \n",
       "pale magenta        pale magenta  \n",
       "vibrant crimson  vibrant crimson  \n",
       "...                          ...  \n",
       "clear gray            clear gray  \n",
       "drab tan                drab tan  \n",
       "muted gray            muted gray  \n",
       "striped black      striped black  \n",
       "clear violet        clear violet  \n",
       "\n",
       "[594 rows x 4 columns]"
      ]
     },
     "execution_count": 23,
     "metadata": {},
     "output_type": "execute_result"
    }
   ],
   "source": [
    "df"
   ]
  },
  {
   "cell_type": "code",
   "execution_count": 39,
   "metadata": {},
   "outputs": [],
   "source": [
    "temp_storage = {}\n",
    "def get_gold_count(color):\n",
    "    content = list(df.loc[color].content_dict.keys())\n",
    "#     print('getting content for {}: {}'.format(color, content))\n",
    "    if 'shiny gold' in content:\n",
    "        return 1\n",
    "    elif 'other' in content:\n",
    "#         print('returning 0')\n",
    "        return 0\n",
    "    else:\n",
    "        total_content = 0\n",
    "        for c in content:\n",
    "            if c not in temp_storage.keys():\n",
    "                temp_count = get_gold_count(c)\n",
    "                temp_storage[c] = temp_count\n",
    "            total_content += temp_storage[c]\n",
    "        return total_content"
   ]
  },
  {
   "cell_type": "code",
   "execution_count": 40,
   "metadata": {},
   "outputs": [],
   "source": [
    "df['gold_count'] = df.bag_color.apply(get_gold_count)"
   ]
  },
  {
   "cell_type": "code",
   "execution_count": 42,
   "metadata": {},
   "outputs": [
    {
     "data": {
      "text/plain": [
       "0    383\n",
       "1    150\n",
       "2     47\n",
       "3      9\n",
       "5      3\n",
       "4      2\n",
       "Name: gold_count, dtype: int64"
      ]
     },
     "execution_count": 42,
     "metadata": {},
     "output_type": "execute_result"
    }
   ],
   "source": [
    "df.gold_count.value_counts()"
   ]
  },
  {
   "cell_type": "code",
   "execution_count": 43,
   "metadata": {},
   "outputs": [
    {
     "data": {
      "text/plain": [
       "211"
      ]
     },
     "execution_count": 43,
     "metadata": {},
     "output_type": "execute_result"
    }
   ],
   "source": [
    "len(df) - 383"
   ]
  },
  {
   "cell_type": "code",
   "execution_count": 17,
   "metadata": {},
   "outputs": [],
   "source": [
    "df['check'] = df.content_dict.apply(lambda x: len(x))"
   ]
  },
  {
   "cell_type": "code",
   "execution_count": 44,
   "metadata": {},
   "outputs": [
    {
     "data": {
      "text/plain": [
       "inhoud            1 dull white bag, 4 dark orange bags.\n",
       "content_dict    {'dull white': '1', 'dark orange': '4'}\n",
       "check                                                 2\n",
       "bag_color                                    shiny gold\n",
       "gold_count                                            0\n",
       "Name: shiny gold, dtype: object"
      ]
     },
     "execution_count": 44,
     "metadata": {},
     "output_type": "execute_result"
    }
   ],
   "source": [
    "df.loc['shiny gold']"
   ]
  },
  {
   "cell_type": "code",
   "execution_count": 65,
   "metadata": {},
   "outputs": [],
   "source": [
    "temp_storage = {}\n",
    "def get_bag_count(color):\n",
    "    content_dict = df.loc[color].content_dict\n",
    "    content = list(content_dict.keys())\n",
    "#     print('getting content for {}: {}'.format(color, content_dict))\n",
    "\n",
    "    if 'other' in content:\n",
    "#         print('returning 1')\n",
    "        return 1\n",
    "    else:\n",
    "        total_content = 1\n",
    "        for c in content:\n",
    "            if c not in temp_storage.keys():\n",
    "                temp_count = get_bag_count(c)\n",
    "                temp_storage[c] = temp_count\n",
    "            total_content += int(content_dict[c]) * temp_storage[c]\n",
    "#             print('adding {} times {} for {}'. format(int(content_dict[c]), temp_storage[c], c))\n",
    "        return total_content"
   ]
  },
  {
   "cell_type": "code",
   "execution_count": 66,
   "metadata": {},
   "outputs": [],
   "source": [
    "df['bag_count'] = df.bag_color.apply(get_bag_count)"
   ]
  },
  {
   "cell_type": "code",
   "execution_count": 67,
   "metadata": {},
   "outputs": [
    {
     "data": {
      "text/plain": [
       "inhoud            1 dull white bag, 4 dark orange bags.\n",
       "content_dict    {'dull white': '1', 'dark orange': '4'}\n",
       "check                                                 2\n",
       "bag_color                                    shiny gold\n",
       "gold_count                                            0\n",
       "bag_count                                         12415\n",
       "Name: shiny gold, dtype: object"
      ]
     },
     "execution_count": 67,
     "metadata": {},
     "output_type": "execute_result"
    }
   ],
   "source": [
    "df.loc['shiny gold']"
   ]
  },
  {
   "cell_type": "code",
   "execution_count": 60,
   "metadata": {},
   "outputs": [
    {
     "data": {
      "text/plain": [
       "inhoud          5 bright indigo bags, 3 posh tomato bags, 2 cl...\n",
       "content_dict    {'bright indigo': '5', 'posh tomato': '3', 'cl...\n",
       "check                                                           4\n",
       "bag_color                                              dull white\n",
       "gold_count                                                      0\n",
       "bag_count                                                   11245\n",
       "Name: dull white, dtype: object"
      ]
     },
     "execution_count": 60,
     "metadata": {},
     "output_type": "execute_result"
    }
   ],
   "source": [
    "df.loc['dull white']"
   ]
  },
  {
   "cell_type": "code",
   "execution_count": 61,
   "metadata": {},
   "outputs": [
    {
     "data": {
      "text/plain": [
       "inhoud           4 dim aqua bags, 4 drab violet bags.\n",
       "content_dict    {'dim aqua': '4', 'drab violet': '4'}\n",
       "check                                               2\n",
       "bag_color                                 dark orange\n",
       "gold_count                                          0\n",
       "bag_count                                           8\n",
       "Name: dark orange, dtype: object"
      ]
     },
     "execution_count": 61,
     "metadata": {},
     "output_type": "execute_result"
    }
   ],
   "source": [
    "df.loc['dark orange']"
   ]
  },
  {
   "cell_type": "code",
   "execution_count": 38,
   "metadata": {},
   "outputs": [
    {
     "data": {
      "text/plain": [
       "True"
      ]
     },
     "execution_count": 38,
     "metadata": {},
     "output_type": "execute_result"
    }
   ],
   "source": [
    "'b' in a.keys()"
   ]
  },
  {
   "cell_type": "code",
   "execution_count": null,
   "metadata": {},
   "outputs": [],
   "source": []
  }
 ],
 "metadata": {
  "kernelspec": {
   "display_name": "Python 3",
   "language": "python",
   "name": "python3"
  },
  "language_info": {
   "codemirror_mode": {
    "name": "ipython",
    "version": 3
   },
   "file_extension": ".py",
   "mimetype": "text/x-python",
   "name": "python",
   "nbconvert_exporter": "python",
   "pygments_lexer": "ipython3",
   "version": "3.7.5"
  }
 },
 "nbformat": 4,
 "nbformat_minor": 4
}
