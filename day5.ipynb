{
 "cells": [
  {
   "cell_type": "code",
   "execution_count": 1,
   "metadata": {},
   "outputs": [],
   "source": [
    "import pandas as pd\n",
    "import numpy as np"
   ]
  },
  {
   "cell_type": "code",
   "execution_count": 2,
   "metadata": {},
   "outputs": [],
   "source": [
    "data = pd.read_csv('data/input_day5_1.txt', header=None)"
   ]
  },
  {
   "cell_type": "code",
   "execution_count": 26,
   "metadata": {},
   "outputs": [],
   "source": [
    "data['row_binary'] = data[0].apply(lambda bp: bp[:7].replace('F', '0').replace('B', '1'))\n",
    "data['seat_binary'] = data[0].apply(lambda bp: bp[7:].replace('L', '0').replace('R', '1'))\n",
    "data['row_nr'] = data.row_binary.apply(lambda x: int(x, 2))\n",
    "data['seat'] = data.seat_binary.apply(lambda x: int(x, 2))\n",
    "data['seat_nr'] = data.apply(lambda row: row.row_nr *8 + row.seat, axis=1)"
   ]
  },
  {
   "cell_type": "code",
   "execution_count": 27,
   "metadata": {},
   "outputs": [
    {
     "data": {
      "text/html": [
       "<div>\n",
       "<style scoped>\n",
       "    .dataframe tbody tr th:only-of-type {\n",
       "        vertical-align: middle;\n",
       "    }\n",
       "\n",
       "    .dataframe tbody tr th {\n",
       "        vertical-align: top;\n",
       "    }\n",
       "\n",
       "    .dataframe thead th {\n",
       "        text-align: right;\n",
       "    }\n",
       "</style>\n",
       "<table border=\"1\" class=\"dataframe\">\n",
       "  <thead>\n",
       "    <tr style=\"text-align: right;\">\n",
       "      <th></th>\n",
       "      <th>0</th>\n",
       "      <th>row_binary</th>\n",
       "      <th>seat_binary</th>\n",
       "      <th>row_nr</th>\n",
       "      <th>seat</th>\n",
       "      <th>seat_nr</th>\n",
       "    </tr>\n",
       "  </thead>\n",
       "  <tbody>\n",
       "    <tr>\n",
       "      <th>0</th>\n",
       "      <td>FFFFBBBRLR</td>\n",
       "      <td>0000111</td>\n",
       "      <td>101</td>\n",
       "      <td>7</td>\n",
       "      <td>5</td>\n",
       "      <td>61</td>\n",
       "    </tr>\n",
       "    <tr>\n",
       "      <th>1</th>\n",
       "      <td>BFBBFBFRRR</td>\n",
       "      <td>1011010</td>\n",
       "      <td>111</td>\n",
       "      <td>90</td>\n",
       "      <td>7</td>\n",
       "      <td>727</td>\n",
       "    </tr>\n",
       "    <tr>\n",
       "      <th>2</th>\n",
       "      <td>FFBFBBFRRL</td>\n",
       "      <td>0010110</td>\n",
       "      <td>110</td>\n",
       "      <td>22</td>\n",
       "      <td>6</td>\n",
       "      <td>182</td>\n",
       "    </tr>\n",
       "    <tr>\n",
       "      <th>3</th>\n",
       "      <td>BFBFBBFRRR</td>\n",
       "      <td>1010110</td>\n",
       "      <td>111</td>\n",
       "      <td>86</td>\n",
       "      <td>7</td>\n",
       "      <td>695</td>\n",
       "    </tr>\n",
       "    <tr>\n",
       "      <th>4</th>\n",
       "      <td>BFBBFFFLLR</td>\n",
       "      <td>1011000</td>\n",
       "      <td>001</td>\n",
       "      <td>88</td>\n",
       "      <td>1</td>\n",
       "      <td>705</td>\n",
       "    </tr>\n",
       "    <tr>\n",
       "      <th>...</th>\n",
       "      <td>...</td>\n",
       "      <td>...</td>\n",
       "      <td>...</td>\n",
       "      <td>...</td>\n",
       "      <td>...</td>\n",
       "      <td>...</td>\n",
       "    </tr>\n",
       "    <tr>\n",
       "      <th>864</th>\n",
       "      <td>BBFBBFBRRR</td>\n",
       "      <td>1101101</td>\n",
       "      <td>111</td>\n",
       "      <td>109</td>\n",
       "      <td>7</td>\n",
       "      <td>879</td>\n",
       "    </tr>\n",
       "    <tr>\n",
       "      <th>865</th>\n",
       "      <td>BBFFFBFRLL</td>\n",
       "      <td>1100010</td>\n",
       "      <td>100</td>\n",
       "      <td>98</td>\n",
       "      <td>4</td>\n",
       "      <td>788</td>\n",
       "    </tr>\n",
       "    <tr>\n",
       "      <th>866</th>\n",
       "      <td>BFFBFBBLLL</td>\n",
       "      <td>1001011</td>\n",
       "      <td>000</td>\n",
       "      <td>75</td>\n",
       "      <td>0</td>\n",
       "      <td>600</td>\n",
       "    </tr>\n",
       "    <tr>\n",
       "      <th>867</th>\n",
       "      <td>FBFBFFBRRR</td>\n",
       "      <td>0101001</td>\n",
       "      <td>111</td>\n",
       "      <td>41</td>\n",
       "      <td>7</td>\n",
       "      <td>335</td>\n",
       "    </tr>\n",
       "    <tr>\n",
       "      <th>868</th>\n",
       "      <td>FFBBBBBRRR</td>\n",
       "      <td>0011111</td>\n",
       "      <td>111</td>\n",
       "      <td>31</td>\n",
       "      <td>7</td>\n",
       "      <td>255</td>\n",
       "    </tr>\n",
       "  </tbody>\n",
       "</table>\n",
       "<p>869 rows × 6 columns</p>\n",
       "</div>"
      ],
      "text/plain": [
       "              0 row_binary seat_binary  row_nr  seat  seat_nr\n",
       "0    FFFFBBBRLR    0000111         101       7     5       61\n",
       "1    BFBBFBFRRR    1011010         111      90     7      727\n",
       "2    FFBFBBFRRL    0010110         110      22     6      182\n",
       "3    BFBFBBFRRR    1010110         111      86     7      695\n",
       "4    BFBBFFFLLR    1011000         001      88     1      705\n",
       "..          ...        ...         ...     ...   ...      ...\n",
       "864  BBFBBFBRRR    1101101         111     109     7      879\n",
       "865  BBFFFBFRLL    1100010         100      98     4      788\n",
       "866  BFFBFBBLLL    1001011         000      75     0      600\n",
       "867  FBFBFFBRRR    0101001         111      41     7      335\n",
       "868  FFBBBBBRRR    0011111         111      31     7      255\n",
       "\n",
       "[869 rows x 6 columns]"
      ]
     },
     "execution_count": 27,
     "metadata": {},
     "output_type": "execute_result"
    }
   ],
   "source": [
    "data"
   ]
  },
  {
   "cell_type": "code",
   "execution_count": 28,
   "metadata": {},
   "outputs": [
    {
     "data": {
      "text/plain": [
       "915"
      ]
     },
     "execution_count": 28,
     "metadata": {},
     "output_type": "execute_result"
    }
   ],
   "source": [
    "data.seat_nr.max()"
   ]
  },
  {
   "cell_type": "code",
   "execution_count": 29,
   "metadata": {},
   "outputs": [],
   "source": [
    "possible_seats = np.arange(data.seat_nr.min(), data.seat_nr.max())"
   ]
  },
  {
   "cell_type": "code",
   "execution_count": 32,
   "metadata": {},
   "outputs": [],
   "source": [
    "left_over_seat = [x for x in possible_seats if x not in data.seat_nr.values]"
   ]
  },
  {
   "cell_type": "code",
   "execution_count": 33,
   "metadata": {},
   "outputs": [
    {
     "data": {
      "text/plain": [
       "[699]"
      ]
     },
     "execution_count": 33,
     "metadata": {},
     "output_type": "execute_result"
    }
   ],
   "source": [
    "left_over_seat"
   ]
  }
 ],
 "metadata": {
  "kernelspec": {
   "display_name": "Python 3",
   "language": "python",
   "name": "python3"
  },
  "language_info": {
   "codemirror_mode": {
    "name": "ipython",
    "version": 3
   },
   "file_extension": ".py",
   "mimetype": "text/x-python",
   "name": "python",
   "nbconvert_exporter": "python",
   "pygments_lexer": "ipython3",
   "version": "3.7.5"
  }
 },
 "nbformat": 4,
 "nbformat_minor": 4
}
