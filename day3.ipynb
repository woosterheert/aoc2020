{
 "cells": [
  {
   "cell_type": "code",
   "execution_count": 1,
   "metadata": {},
   "outputs": [],
   "source": [
    "import pandas as pd\n",
    "import numpy as np"
   ]
  },
  {
   "cell_type": "code",
   "execution_count": 38,
   "metadata": {},
   "outputs": [],
   "source": [
    "data = pd.read_csv('data/input_day3_1.txt', header=None)"
   ]
  },
  {
   "cell_type": "code",
   "execution_count": 39,
   "metadata": {},
   "outputs": [],
   "source": [
    "data.columns = ['field']"
   ]
  },
  {
   "cell_type": "code",
   "execution_count": 40,
   "metadata": {},
   "outputs": [],
   "source": [
    "width = len(data.loc[0].field)"
   ]
  },
  {
   "cell_type": "code",
   "execution_count": 41,
   "metadata": {},
   "outputs": [
    {
     "data": {
      "text/plain": [
       "2"
      ]
     },
     "execution_count": 41,
     "metadata": {},
     "output_type": "execute_result"
    }
   ],
   "source": [
    "33 % width"
   ]
  },
  {
   "cell_type": "code",
   "execution_count": 42,
   "metadata": {},
   "outputs": [],
   "source": [
    "data['position'] = data.index * 3\n",
    "data['corr_position'] = data.position.apply(lambda x: x % width)"
   ]
  },
  {
   "cell_type": "code",
   "execution_count": 43,
   "metadata": {},
   "outputs": [],
   "source": [
    "data['at_position'] = data.apply(lambda row: row.field[row.corr_position], axis=1)"
   ]
  },
  {
   "cell_type": "code",
   "execution_count": 44,
   "metadata": {},
   "outputs": [
    {
     "data": {
      "text/plain": [
       "#    270\n",
       ".     53\n",
       "Name: at_position, dtype: int64"
      ]
     },
     "execution_count": 44,
     "metadata": {},
     "output_type": "execute_result"
    }
   ],
   "source": [
    "data.at_position.value_counts()"
   ]
  },
  {
   "cell_type": "code",
   "execution_count": 47,
   "metadata": {},
   "outputs": [
    {
     "data": {
      "text/html": [
       "<div>\n",
       "<style scoped>\n",
       "    .dataframe tbody tr th:only-of-type {\n",
       "        vertical-align: middle;\n",
       "    }\n",
       "\n",
       "    .dataframe tbody tr th {\n",
       "        vertical-align: top;\n",
       "    }\n",
       "\n",
       "    .dataframe thead th {\n",
       "        text-align: right;\n",
       "    }\n",
       "</style>\n",
       "<table border=\"1\" class=\"dataframe\">\n",
       "  <thead>\n",
       "    <tr style=\"text-align: right;\">\n",
       "      <th></th>\n",
       "      <th>field</th>\n",
       "      <th>position</th>\n",
       "      <th>corr_position</th>\n",
       "      <th>at_position</th>\n",
       "    </tr>\n",
       "  </thead>\n",
       "  <tbody>\n",
       "    <tr>\n",
       "      <th>0</th>\n",
       "      <td>...............#.#.............</td>\n",
       "      <td>0</td>\n",
       "      <td>0</td>\n",
       "      <td>.</td>\n",
       "    </tr>\n",
       "    <tr>\n",
       "      <th>1</th>\n",
       "      <td>##..#....................#...##</td>\n",
       "      <td>3</td>\n",
       "      <td>3</td>\n",
       "      <td>.</td>\n",
       "    </tr>\n",
       "    <tr>\n",
       "      <th>2</th>\n",
       "      <td>......#..#.#.....#..#.#.##.....</td>\n",
       "      <td>6</td>\n",
       "      <td>6</td>\n",
       "      <td>#</td>\n",
       "    </tr>\n",
       "    <tr>\n",
       "      <th>3</th>\n",
       "      <td>.........#...#..............#.#</td>\n",
       "      <td>9</td>\n",
       "      <td>9</td>\n",
       "      <td>#</td>\n",
       "    </tr>\n",
       "    <tr>\n",
       "      <th>4</th>\n",
       "      <td>............#.......##.........</td>\n",
       "      <td>12</td>\n",
       "      <td>12</td>\n",
       "      <td>#</td>\n",
       "    </tr>\n",
       "    <tr>\n",
       "      <th>5</th>\n",
       "      <td>...#.....#.....#...#.....#..#..</td>\n",
       "      <td>15</td>\n",
       "      <td>15</td>\n",
       "      <td>#</td>\n",
       "    </tr>\n",
       "    <tr>\n",
       "      <th>6</th>\n",
       "      <td>..............#..##.#..#......#</td>\n",
       "      <td>18</td>\n",
       "      <td>18</td>\n",
       "      <td>#</td>\n",
       "    </tr>\n",
       "    <tr>\n",
       "      <th>7</th>\n",
       "      <td>.##.....#.....#......##.#......</td>\n",
       "      <td>21</td>\n",
       "      <td>21</td>\n",
       "      <td>#</td>\n",
       "    </tr>\n",
       "    <tr>\n",
       "      <th>8</th>\n",
       "      <td>.#..........###....#...##....#.</td>\n",
       "      <td>24</td>\n",
       "      <td>24</td>\n",
       "      <td>#</td>\n",
       "    </tr>\n",
       "    <tr>\n",
       "      <th>9</th>\n",
       "      <td>.....#....#.#.......#......##..</td>\n",
       "      <td>27</td>\n",
       "      <td>27</td>\n",
       "      <td>#</td>\n",
       "    </tr>\n",
       "    <tr>\n",
       "      <th>10</th>\n",
       "      <td>.#....#......#.......#........#</td>\n",
       "      <td>30</td>\n",
       "      <td>30</td>\n",
       "      <td>#</td>\n",
       "    </tr>\n",
       "    <tr>\n",
       "      <th>11</th>\n",
       "      <td>..#.#.......#..##.....##.......</td>\n",
       "      <td>33</td>\n",
       "      <td>2</td>\n",
       "      <td>#</td>\n",
       "    </tr>\n",
       "    <tr>\n",
       "      <th>12</th>\n",
       "      <td>...#.#....#.......#.......#...#</td>\n",
       "      <td>36</td>\n",
       "      <td>5</td>\n",
       "      <td>#</td>\n",
       "    </tr>\n",
       "    <tr>\n",
       "      <th>13</th>\n",
       "      <td>##.##...##..#......#.#.....#..#</td>\n",
       "      <td>39</td>\n",
       "      <td>8</td>\n",
       "      <td>#</td>\n",
       "    </tr>\n",
       "    <tr>\n",
       "      <th>14</th>\n",
       "      <td>.#.#.......#..#.#......#...#.#.</td>\n",
       "      <td>42</td>\n",
       "      <td>11</td>\n",
       "      <td>#</td>\n",
       "    </tr>\n",
       "  </tbody>\n",
       "</table>\n",
       "</div>"
      ],
      "text/plain": [
       "                              field  position  corr_position at_position\n",
       "0   ...............#.#.............         0              0           .\n",
       "1   ##..#....................#...##         3              3           .\n",
       "2   ......#..#.#.....#..#.#.##.....         6              6           #\n",
       "3   .........#...#..............#.#         9              9           #\n",
       "4   ............#.......##.........        12             12           #\n",
       "5   ...#.....#.....#...#.....#..#..        15             15           #\n",
       "6   ..............#..##.#..#......#        18             18           #\n",
       "7   .##.....#.....#......##.#......        21             21           #\n",
       "8   .#..........###....#...##....#.        24             24           #\n",
       "9   .....#....#.#.......#......##..        27             27           #\n",
       "10  .#....#......#.......#........#        30             30           #\n",
       "11  ..#.#.......#..##.....##.......        33              2           #\n",
       "12  ...#.#....#.......#.......#...#        36              5           #\n",
       "13  ##.##...##..#......#.#.....#..#        39              8           #\n",
       "14  .#.#.......#..#.#......#...#.#.        42             11           #"
      ]
     },
     "execution_count": 47,
     "metadata": {},
     "output_type": "execute_result"
    }
   ],
   "source": [
    "data.head(15)"
   ]
  },
  {
   "cell_type": "code",
   "execution_count": 48,
   "metadata": {},
   "outputs": [
    {
     "data": {
      "text/plain": [
       ".    243\n",
       "#     80\n",
       "Name: at_position, dtype: int64"
      ]
     },
     "execution_count": 48,
     "metadata": {},
     "output_type": "execute_result"
    }
   ],
   "source": [
    "data['position'] = data.index * 1\n",
    "data['corr_position'] = data.position.apply(lambda x: x % width)\n",
    "data['at_position'] = data.apply(lambda row: row.field[row.corr_position], axis=1)\n",
    "data.at_position.value_counts()"
   ]
  },
  {
   "cell_type": "code",
   "execution_count": 49,
   "metadata": {},
   "outputs": [
    {
     "data": {
      "text/plain": [
       ".    263\n",
       "#     60\n",
       "Name: at_position, dtype: int64"
      ]
     },
     "execution_count": 49,
     "metadata": {},
     "output_type": "execute_result"
    }
   ],
   "source": [
    "data['position'] = data.index * 5\n",
    "data['corr_position'] = data.position.apply(lambda x: x % width)\n",
    "data['at_position'] = data.apply(lambda row: row.field[row.corr_position], axis=1)\n",
    "data.at_position.value_counts()"
   ]
  },
  {
   "cell_type": "code",
   "execution_count": 50,
   "metadata": {},
   "outputs": [
    {
     "data": {
      "text/plain": [
       ".    260\n",
       "#     63\n",
       "Name: at_position, dtype: int64"
      ]
     },
     "execution_count": 50,
     "metadata": {},
     "output_type": "execute_result"
    }
   ],
   "source": [
    "data['position'] = data.index * 7\n",
    "data['corr_position'] = data.position.apply(lambda x: x % width)\n",
    "data['at_position'] = data.apply(lambda row: row.field[row.corr_position], axis=1)\n",
    "data.at_position.value_counts()"
   ]
  },
  {
   "cell_type": "code",
   "execution_count": 57,
   "metadata": {},
   "outputs": [
    {
     "data": {
      "text/plain": [
       ".    136\n",
       "#     26\n",
       "Name: at_position, dtype: int64"
      ]
     },
     "execution_count": 57,
     "metadata": {},
     "output_type": "execute_result"
    }
   ],
   "source": [
    "data_2 = data.copy()\n",
    "data_2 = data_2.iloc[::2, :].reset_index(drop=True)\n",
    "data_2['position'] = data_2.index * 1\n",
    "data_2['corr_position'] = data_2.position.apply(lambda x: x % width)\n",
    "data_2['at_position'] = data_2.apply(lambda row: row.field[row.corr_position], axis=1)\n",
    "data_2.at_position.value_counts()"
   ]
  },
  {
   "cell_type": "code",
   "execution_count": 58,
   "metadata": {},
   "outputs": [
    {
     "data": {
      "text/plain": [
       "2122848000"
      ]
     },
     "execution_count": 58,
     "metadata": {},
     "output_type": "execute_result"
    }
   ],
   "source": [
    "26*63*60*80*270"
   ]
  },
  {
   "cell_type": "code",
   "execution_count": null,
   "metadata": {},
   "outputs": [],
   "source": []
  }
 ],
 "metadata": {
  "kernelspec": {
   "display_name": "Python 3",
   "language": "python",
   "name": "python3"
  },
  "language_info": {
   "codemirror_mode": {
    "name": "ipython",
    "version": 3
   },
   "file_extension": ".py",
   "mimetype": "text/x-python",
   "name": "python",
   "nbconvert_exporter": "python",
   "pygments_lexer": "ipython3",
   "version": "3.7.5"
  }
 },
 "nbformat": 4,
 "nbformat_minor": 4
}
