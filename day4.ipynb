{
 "cells": [
  {
   "cell_type": "code",
   "execution_count": 1,
   "metadata": {},
   "outputs": [],
   "source": [
    "import pandas as pd\n",
    "import numpy as np"
   ]
  },
  {
   "cell_type": "code",
   "execution_count": 6,
   "metadata": {},
   "outputs": [],
   "source": [
    "data = pd.read_csv('data/input_day4_1.txt', header=None, skip_blank_lines=False)"
   ]
  },
  {
   "cell_type": "code",
   "execution_count": 29,
   "metadata": {},
   "outputs": [],
   "source": [
    "passports = []\n",
    "pp_string = \"\"\n",
    "for idx, line in data.iterrows():\n",
    "    if ~line.isnull()[0]:\n",
    "        pp_string += ' ' + line[0]\n",
    "    if idx != data.index.values[-1]:\n",
    "        if data.loc[idx + 1].isnull()[0]:\n",
    "            passports += [pp_string]\n",
    "            pp_string = ''\n",
    "    else:\n",
    "        passports += [pp_string]"
   ]
  },
  {
   "cell_type": "code",
   "execution_count": 31,
   "metadata": {},
   "outputs": [],
   "source": [
    "required_elements = ['byr', 'iyr', 'eyr', 'hgt', 'hcl', 'ecl', 'pid'] #cid"
   ]
  },
  {
   "cell_type": "code",
   "execution_count": 33,
   "metadata": {},
   "outputs": [],
   "source": [
    "def verify_elements(passport):\n",
    "    for e in required_elements:\n",
    "        if not e in passport:\n",
    "            return None\n",
    "    return passport"
   ]
  },
  {
   "cell_type": "code",
   "execution_count": 34,
   "metadata": {},
   "outputs": [],
   "source": [
    "valid_passports = []\n",
    "for p in passports:\n",
    "    valid_passport = verify_elements(p)\n",
    "    if valid_passport is not None:\n",
    "        valid_passports += [valid_passport]"
   ]
  },
  {
   "cell_type": "code",
   "execution_count": 36,
   "metadata": {},
   "outputs": [
    {
     "data": {
      "text/plain": [
       "228"
      ]
     },
     "execution_count": 36,
     "metadata": {},
     "output_type": "execute_result"
    }
   ],
   "source": [
    "len(valid_passports)"
   ]
  },
  {
   "cell_type": "code",
   "execution_count": 43,
   "metadata": {},
   "outputs": [],
   "source": [
    "valid_passports_dict = []\n",
    "for passport_str in valid_passports:\n",
    "    pp_dict = {}\n",
    "    for s in passport_str.strip().split(' '):\n",
    "        pp_dict[s[:3]] = s[4:]\n",
    "    valid_passports_dict += [pp_dict]"
   ]
  },
  {
   "cell_type": "code",
   "execution_count": 127,
   "metadata": {},
   "outputs": [],
   "source": [
    "def verify_byr(byr):\n",
    "    return len(byr) == 4 and 1920 <= int(byr) <= 2002\n",
    "\n",
    "def verify_iyr(iyr):\n",
    "    return len(iyr) == 4 and 2010 <= int(iyr) <= 2020\n",
    "\n",
    "def verify_eyr(eyr):\n",
    "    return len(eyr) == 4 and 2020 <= int(eyr) <= 2030\n",
    "\n",
    "def verify_height(height):\n",
    "    if ('in' in height or 'cm' in height) and height[:-2].isnumeric():\n",
    "        if 'cm' in height:\n",
    "            return 150 <= int(height[:-2]) <= 193\n",
    "        if 'in' in height:\n",
    "            return 59 <= int(height[:-2]) <= 76\n",
    "    return False\n",
    "        \n",
    "def verify_hcl(hcl, allowed_characters=['0', '1', '2', '3', '4', '5', '6', '7', '8', '9', 'a', 'b', 'c', 'd', 'e', 'f']):\n",
    "    if len(hcl) == 7 and hcl[0] == '#':\n",
    "        for c in hcl[1:]:\n",
    "            if c not in allowed_characters:\n",
    "                return False\n",
    "        return True\n",
    "    return False\n",
    "\n",
    "def verify_ecl(ecl):\n",
    "    return ecl in ['amb', 'blu', 'brn', 'gry', 'grn', 'hzl', 'oth']\n",
    "\n",
    "def verify_pid(pid):\n",
    "    return len(pid) == 9"
   ]
  },
  {
   "cell_type": "code",
   "execution_count": 128,
   "metadata": {},
   "outputs": [],
   "source": [
    "validation = {'byr': verify_byr, 'iyr': verify_iyr, 'eyr': verify_eyr, 'hgt': verify_height,\n",
    "             'hcl': verify_hcl, 'ecl': verify_ecl, 'pid': verify_pid}\n",
    "\n",
    "def verify_passport(passport_dict):\n",
    "    result = {i : 0 for i in required_elements}\n",
    "    for r in required_elements:\n",
    "        if validation[r](passport_dict[r]):\n",
    "            result[r] = 1\n",
    "        else:\n",
    "            print(f'invalid {r}: {passport_dict[r]}')\n",
    "    return sum(list(result.values())) == 7"
   ]
  },
  {
   "cell_type": "code",
   "execution_count": 129,
   "metadata": {},
   "outputs": [
    {
     "name": "stdout",
     "output_type": "stream",
     "text": [
      "invalid byr: 2028\n",
      "invalid iyr: 2029\n",
      "invalid eyr: 2036\n",
      "invalid hgt: 174in\n",
      "invalid hcl: z\n",
      "invalid ecl: #18f71a\n",
      "invalid pid: #e9bf38\n",
      "invalid hgt: 66cm\n",
      "invalid byr: 2025\n",
      "invalid hgt: 69cm\n",
      "invalid pid: 9337568136\n",
      "invalid byr: 2010\n",
      "invalid iyr: 2026\n",
      "invalid eyr: 1976\n",
      "invalid hgt: 154in\n",
      "invalid hcl: 7d22ff\n",
      "invalid ecl: utc\n",
      "invalid pid: 8142023665\n",
      "invalid byr: 2018\n",
      "invalid ecl: gmt\n",
      "invalid byr: 2004\n",
      "invalid iyr: 2027\n",
      "invalid eyr: 2039\n",
      "invalid hcl: z\n",
      "invalid pid: 176cm\n",
      "invalid pid: 90919899\n",
      "invalid ecl: #d401e3\n",
      "invalid byr: 2020\n",
      "invalid iyr: 2008\n",
      "invalid eyr: 1976\n",
      "invalid hgt: 183in\n",
      "invalid hcl: a92c31\n",
      "invalid ecl: utc\n",
      "invalid pid: 0394222041\n",
      "invalid byr: 2011\n",
      "invalid eyr: 2038\n",
      "invalid hcl: z\n",
      "invalid ecl: gmt\n",
      "invalid byr: 2017\n",
      "invalid iyr: 2028\n",
      "invalid eyr: 2039\n",
      "invalid hgt: 177in\n",
      "invalid hcl: z\n",
      "invalid ecl: #4760fb\n",
      "invalid pid: 152cm\n",
      "invalid byr: 2016\n",
      "invalid iyr: 2024\n",
      "invalid hcl: 26c2ef\n",
      "invalid pid: #4eb099\n",
      "invalid hcl: c88145\n",
      "invalid iyr: 1955\n",
      "invalid eyr: 1977\n",
      "invalid byr: 2024\n",
      "invalid iyr: 1975\n",
      "invalid eyr: 1993\n",
      "invalid hgt: 190in\n",
      "invalid hcl: 3de172\n",
      "invalid pid: 8358180772\n",
      "invalid iyr: 2023\n",
      "invalid hgt: 65cm\n",
      "invalid ecl: utc\n",
      "invalid eyr: 1953\n",
      "invalid hgt: 133\n",
      "invalid ecl: #6f4f9f\n",
      "invalid pid: 7177768428\n",
      "invalid pid: 3966920279\n",
      "invalid byr: 2030\n",
      "invalid eyr: 1926\n",
      "invalid hcl: 8b821d\n",
      "invalid pid: 187cm\n",
      "invalid byr: 2024\n",
      "invalid hcl: z\n",
      "invalid hgt: 91\n",
      "invalid byr: 2003\n",
      "invalid eyr: 2037\n",
      "invalid hcl: cbf662\n",
      "invalid ecl: utc\n",
      "invalid hgt: 69cm\n",
      "invalid hcl: z\n",
      "invalid pid: #e0238e\n",
      "invalid byr: 2020\n",
      "invalid iyr: 2009\n",
      "invalid eyr: 1940\n",
      "invalid hgt: 67cm\n",
      "invalid hcl: z\n",
      "invalid pid: #e76a62\n",
      "invalid iyr: 1960\n",
      "invalid hgt: 139\n",
      "invalid hcl: fdcda3\n",
      "invalid ecl: #9db7b8\n",
      "invalid pid: #ef597b\n",
      "invalid byr: 2029\n",
      "invalid eyr: 2034\n",
      "invalid hcl: z\n",
      "invalid pid: 3313111652\n",
      "invalid byr: 2003\n",
      "invalid iyr: 2021\n",
      "invalid ecl: #037c39\n",
      "invalid iyr: 1927\n",
      "invalid hgt: 166in\n",
      "invalid ecl: xry\n",
      "invalid hgt: 64cm\n",
      "invalid ecl: gmt\n",
      "invalid eyr: 1996\n",
      "invalid byr: 2004\n",
      "invalid eyr: 1934\n",
      "invalid hgt: 63cm\n",
      "invalid hcl: z\n",
      "invalid pid: 6173356201\n",
      "invalid iyr: 1924\n",
      "invalid ecl: #b50997\n",
      "invalid byr: 2008\n",
      "invalid iyr: 2030\n",
      "invalid hgt: 180in\n",
      "invalid pid: 19681314\n",
      "invalid byr: 2008\n",
      "invalid iyr: 1975\n",
      "invalid eyr: 2035\n",
      "invalid hgt: 150in\n",
      "invalid hcl: z\n",
      "invalid ecl: #c66ee6\n",
      "invalid pid: #596c41\n",
      "invalid byr: 2008\n",
      "invalid hcl: z\n",
      "invalid hcl: z\n",
      "invalid iyr: 2022\n",
      "invalid eyr: 2035\n",
      "invalid ecl: #9b73f0\n",
      "invalid iyr: 2023\n",
      "invalid iyr: 2025\n",
      "invalid ecl: #fe30a9\n",
      "invalid hgt: 160in\n",
      "invalid byr: 2007\n",
      "invalid iyr: 2026\n",
      "invalid eyr: 2037\n",
      "invalid hgt: 174in\n",
      "invalid hcl: c1305f\n",
      "invalid ecl: #0cf85c\n",
      "invalid pid: 163cm\n",
      "invalid iyr: 2021\n",
      "invalid hcl: z\n",
      "invalid pid: 73793987\n",
      "invalid eyr: 2031\n",
      "invalid eyr: 1955\n",
      "invalid hgt: 76cm\n",
      "invalid hcl: z\n",
      "invalid pid: 9425090\n",
      "invalid eyr: 1999\n",
      "invalid hgt: 139\n",
      "invalid byr: 2021\n",
      "invalid iyr: 2029\n",
      "invalid eyr: 2032\n",
      "invalid hgt: 160in\n",
      "invalid hcl: 8f5c13\n",
      "invalid ecl: gmt\n",
      "invalid pid: 179cm\n",
      "invalid byr: 2007\n",
      "invalid iyr: 2022\n",
      "invalid eyr: 2039\n",
      "invalid hgt: 88\n",
      "invalid hcl: a1bb42\n",
      "invalid ecl: #a2f6bb\n",
      "invalid pid: 2264966188\n",
      "invalid hgt: 97\n",
      "invalid hcl: z\n"
     ]
    }
   ],
   "source": [
    "validated_passports = [v for v in valid_passports_dict if verify_passport(v)]"
   ]
  },
  {
   "cell_type": "code",
   "execution_count": 130,
   "metadata": {},
   "outputs": [
    {
     "data": {
      "text/plain": [
       "228"
      ]
     },
     "execution_count": 130,
     "metadata": {},
     "output_type": "execute_result"
    }
   ],
   "source": [
    "len(valid_passports_dict)"
   ]
  },
  {
   "cell_type": "code",
   "execution_count": 131,
   "metadata": {},
   "outputs": [
    {
     "data": {
      "text/plain": [
       "175"
      ]
     },
     "execution_count": 131,
     "metadata": {},
     "output_type": "execute_result"
    }
   ],
   "source": [
    "len(validated_passports)"
   ]
  },
  {
   "cell_type": "code",
   "execution_count": 110,
   "metadata": {},
   "outputs": [],
   "source": [
    "def pp_str_to_dict(pp_str):\n",
    "    pp_dict = {}\n",
    "    for s in pp_str.strip().split(' '):\n",
    "        pp_dict[s[:3]] = s[4:]\n",
    "    return pp_dict"
   ]
  },
  {
   "cell_type": "code",
   "execution_count": 119,
   "metadata": {},
   "outputs": [
    {
     "data": {
      "text/plain": [
       "True"
      ]
     },
     "execution_count": 119,
     "metadata": {},
     "output_type": "execute_result"
    }
   ],
   "source": [
    "test = 'iyr:2010 hgt:158cm hcl:#b6652a ecl:blu byr:1944 eyr:2021 pid:093154719'\n",
    "verify_passport(pp_str_to_dict(test))"
   ]
  },
  {
   "cell_type": "code",
   "execution_count": 112,
   "metadata": {},
   "outputs": [
    {
     "data": {
      "text/plain": [
       "{'eyr': '1972',\n",
       " 'cid': '100',\n",
       " 'hcl': '#18171d',\n",
       " 'ecl': 'amb',\n",
       " 'hgt': '170',\n",
       " 'pid': '186cm',\n",
       " 'iyr': '2018',\n",
       " 'byr': '1926'}"
      ]
     },
     "execution_count": 112,
     "metadata": {},
     "output_type": "execute_result"
    }
   ],
   "source": [
    "pp_str_to_dict(test)"
   ]
  },
  {
   "cell_type": "code",
   "execution_count": null,
   "metadata": {},
   "outputs": [],
   "source": []
  }
 ],
 "metadata": {
  "kernelspec": {
   "display_name": "Python 3",
   "language": "python",
   "name": "python3"
  },
  "language_info": {
   "codemirror_mode": {
    "name": "ipython",
    "version": 3
   },
   "file_extension": ".py",
   "mimetype": "text/x-python",
   "name": "python",
   "nbconvert_exporter": "python",
   "pygments_lexer": "ipython3",
   "version": "3.7.5"
  }
 },
 "nbformat": 4,
 "nbformat_minor": 4
}
